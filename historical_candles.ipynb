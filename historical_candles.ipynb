{
 "cells": [
  {
   "cell_type": "code",
   "execution_count": 1,
   "metadata": {},
   "outputs": [],
   "source": [
    "import pandas as pd\n",
    "import requests\n",
    "import csv"
   ]
  },
  {
   "cell_type": "code",
   "execution_count": 2,
   "metadata": {},
   "outputs": [],
   "source": [
    "symbol = 'BTCUSDT'\n",
    "tick_interval = '5m'"
   ]
  },
  {
   "cell_type": "code",
   "execution_count": 3,
   "metadata": {},
   "outputs": [],
   "source": [
    "def get_binance_current_time():\n",
    "    current_time_url = 'https://api.binance.com/api/v3/time'\n",
    "    return requests.get(current_time_url).json()['serverTime']"
   ]
  },
  {
   "cell_type": "code",
   "execution_count": 4,
   "metadata": {},
   "outputs": [],
   "source": [
    "def get_candles(start='', symbol='BTCUSDT', tick_interval='1d', limit=1000):\n",
    "    \n",
    "    base_url = 'https://api.binance.com/'\n",
    "    endpoint = 'api/v3/klines?'\n",
    "    \n",
    "    if start:\n",
    "        query = 'symbol=' + symbol + '&interval=' + tick_interval + '&startTime=' + str(start) +'&limit='+str(limit)\n",
    "    else:\n",
    "        query = 'symbol=' + symbol + '&interval=' + tick_interval +'&limit='+str(limit)\n",
    "        \n",
    "    candles = requests.get(base_url + endpoint + query).json()\n",
    "    \n",
    "    return candles, candles[-1][6]  # return candles and last colse time in a tuple"
   ]
  },
  {
   "cell_type": "code",
   "execution_count": 5,
   "metadata": {},
   "outputs": [],
   "source": [
    "def get_all_candles_from_start(symbol, tick_interval):  # devuelve una lista de velas, cada vela es una lista tb\n",
    "    \n",
    "    start=1502942400000  # 17 de agosto de 2017\n",
    "    _, last_time = get_candles(start='', symbol=symbol , tick_interval=tick_interval, limit=1)\n",
    "    \n",
    "    candles = []\n",
    "    while start < last_time:\n",
    "        i_candles, next_hop = get_candles(start, symbol, tick_interval)\n",
    "        candles = candles + i_candles\n",
    "        start = next_hop\n",
    "        \n",
    "    return candles"
   ]
  },
  {
   "cell_type": "code",
   "execution_count": 6,
   "metadata": {},
   "outputs": [],
   "source": [
    "candles = get_all_candles_from_start(symbol, tick_interval)\n",
    "columns=['open_time','open', 'high', 'low','close','volume','close_time','quote','trades',\n",
    "         'takers_buy_base','takers_buy_quote','ignore']\n",
    "df = pd.DataFrame(candles, columns=columns)"
   ]
  },
  {
   "cell_type": "code",
   "execution_count": 7,
   "metadata": {},
   "outputs": [
    {
     "name": "stdout",
     "output_type": "stream",
     "text": [
      "<class 'pandas.core.frame.DataFrame'>\n",
      "Int64Index: 294269 entries, 0 to 294268\n",
      "Data columns (total 12 columns):\n",
      " #   Column            Non-Null Count   Dtype  \n",
      "---  ------            --------------   -----  \n",
      " 0   open_time         294269 non-null  float64\n",
      " 1   open              294269 non-null  float64\n",
      " 2   high              294269 non-null  float64\n",
      " 3   low               294269 non-null  float64\n",
      " 4   close             294269 non-null  float64\n",
      " 5   volume            294269 non-null  float64\n",
      " 6   close_time        294269 non-null  float64\n",
      " 7   quote             294269 non-null  float64\n",
      " 8   trades            294269 non-null  float64\n",
      " 9   takers_buy_base   294269 non-null  float64\n",
      " 10  takers_buy_quote  294269 non-null  float64\n",
      " 11  ignore            294269 non-null  float64\n",
      "dtypes: float64(12)\n",
      "memory usage: 29.2 MB\n"
     ]
    }
   ],
   "source": [
    "df = df.sort_values('close_time')\n",
    "df.drop_duplicates(keep='last')\n",
    "df = df.astype(float)\n",
    "df.info()"
   ]
  },
  {
   "cell_type": "code",
   "execution_count": 8,
   "metadata": {},
   "outputs": [],
   "source": [
    "df['close_time'] = pd.to_datetime(df['close_time'], unit='ms')\n",
    "df['close_time'] = df['close_time'].dt.tz_localize('utc').dt.tz_convert('Europe/Madrid')\n",
    "df = df.set_index('close_time')"
   ]
  },
  {
   "cell_type": "code",
   "execution_count": 9,
   "metadata": {},
   "outputs": [],
   "source": [
    "df.drop('ignore', axis=1, inplace=True)"
   ]
  },
  {
   "cell_type": "code",
   "execution_count": 10,
   "metadata": {},
   "outputs": [],
   "source": [
    "df.to_csv(f'{symbol}_{tick_interval}.csv',index=False,header=True, quoting=csv.QUOTE_ALL)"
   ]
  }
 ],
 "metadata": {
  "kernelspec": {
   "display_name": "data_sicence_kernel",
   "language": "python",
   "name": "data_science"
  },
  "language_info": {
   "codemirror_mode": {
    "name": "ipython",
    "version": 3
   },
   "file_extension": ".py",
   "mimetype": "text/x-python",
   "name": "python",
   "nbconvert_exporter": "python",
   "pygments_lexer": "ipython3",
   "version": "3.7.6"
  }
 },
 "nbformat": 4,
 "nbformat_minor": 2
}

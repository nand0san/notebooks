{
  "nbformat": 4,
  "nbformat_minor": 0,
  "metadata": {
    "kernelspec": {
      "display_name": "data_sicence_kernel",
      "language": "python",
      "name": "data_science"
    },
    "language_info": {
      "codemirror_mode": {
        "name": "ipython",
        "version": 3
      },
      "file_extension": ".py",
      "mimetype": "text/x-python",
      "name": "python",
      "nbconvert_exporter": "python",
      "pygments_lexer": "ipython3",
      "version": "3.7.6"
    },
    "colab": {
      "name": "historical_candles.ipynb",
      "provenance": [],
      "collapsed_sections": [],
      "include_colab_link": true
    },
    "accelerator": "GPU"
  },
  "cells": [
    {
      "cell_type": "markdown",
      "metadata": {
        "id": "view-in-github",
        "colab_type": "text"
      },
      "source": [
        "<a href=\"https://colab.research.google.com/github/nand0san/notebooks/blob/master/historical_candles.ipynb\" target=\"_parent\"><img src=\"https://colab.research.google.com/assets/colab-badge.svg\" alt=\"Open In Colab\"/></a>"
      ]
    },
    {
      "cell_type": "code",
      "metadata": {
        "id": "DIumgwzzEJVX",
        "colab_type": "code",
        "colab": {}
      },
      "source": [
        "import pandas as pd\n",
        "import requests\n",
        "import csv"
      ],
      "execution_count": 0,
      "outputs": []
    },
    {
      "cell_type": "code",
      "metadata": {
        "id": "qsAP_MyYEJVf",
        "colab_type": "code",
        "colab": {}
      },
      "source": [
        "symbol = 'BTCUSDT'\n",
        "tick_interval = '1d'"
      ],
      "execution_count": 0,
      "outputs": []
    },
    {
      "cell_type": "code",
      "metadata": {
        "id": "7a9chpOOEJVo",
        "colab_type": "code",
        "colab": {}
      },
      "source": [
        "def get_candles(start='', symbol='BTCUSDT', tick_interval='1d', limit=1000):\n",
        "    \n",
        "    base_url = 'https://api.binance.com/'\n",
        "    endpoint = 'api/v3/klines?'\n",
        "    \n",
        "    if start:\n",
        "        query = 'symbol=' + symbol + '&interval=' + tick_interval + '&startTime=' + str(start) +'&limit='+str(limit)\n",
        "    else:\n",
        "        query = 'symbol=' + symbol + '&interval=' + tick_interval +'&limit='+str(limit)\n",
        "        \n",
        "    candles = requests.get(base_url + endpoint + query).json()\n",
        "    \n",
        "    return candles, candles[-1][6]  # return candles and last colse time in a tuple"
      ],
      "execution_count": 0,
      "outputs": []
    },
    {
      "cell_type": "code",
      "metadata": {
        "id": "-2ERhcNaEJVt",
        "colab_type": "code",
        "colab": {}
      },
      "source": [
        "def get_all_candles_from_start(symbol, tick_interval):  # devuelve una lista de velas, cada vela es una lista tb\n",
        "    \n",
        "    start=1502942400000  # 17 de agosto de 2017\n",
        "    _, last_time = get_candles(start='', symbol=symbol , tick_interval=tick_interval, limit=1)\n",
        "    \n",
        "    candles = []\n",
        "    while start < last_time:\n",
        "        i_candles, next_hop = get_candles(start, symbol, tick_interval)\n",
        "        candles = candles + i_candles\n",
        "        start = next_hop\n",
        "        \n",
        "    return candles"
      ],
      "execution_count": 0,
      "outputs": []
    },
    {
      "cell_type": "code",
      "metadata": {
        "id": "6Yr8dQsoEJVx",
        "colab_type": "code",
        "colab": {}
      },
      "source": [
        "candles = get_all_candles_from_start(symbol, tick_interval)\n",
        "columns=['open_time','open', 'high', 'low','close','volume','close_time','quote','trades',\n",
        "         'takers_buy_base','takers_buy_quote','ignore']\n",
        "df = pd.DataFrame(candles, columns=columns)"
      ],
      "execution_count": 0,
      "outputs": []
    },
    {
      "cell_type": "code",
      "metadata": {
        "id": "v3tWMD9zEJV0",
        "colab_type": "code",
        "colab": {
          "base_uri": "https://localhost:8080/",
          "height": 366
        },
        "outputId": "d253836d-3d64-414e-9fa0-d1a4821033f5"
      },
      "source": [
        "df = df.sort_values('close_time')\n",
        "df.drop_duplicates(keep='last')\n",
        "df = df.astype(float)\n",
        "df.info()"
      ],
      "execution_count": 53,
      "outputs": [
        {
          "output_type": "stream",
          "text": [
            "<class 'pandas.core.frame.DataFrame'>\n",
            "Int64Index: 1027 entries, 0 to 1026\n",
            "Data columns (total 12 columns):\n",
            " #   Column            Non-Null Count  Dtype  \n",
            "---  ------            --------------  -----  \n",
            " 0   open_time         1027 non-null   float64\n",
            " 1   open              1027 non-null   float64\n",
            " 2   high              1027 non-null   float64\n",
            " 3   low               1027 non-null   float64\n",
            " 4   close             1027 non-null   float64\n",
            " 5   volume            1027 non-null   float64\n",
            " 6   close_time        1027 non-null   float64\n",
            " 7   quote             1027 non-null   float64\n",
            " 8   trades            1027 non-null   float64\n",
            " 9   takers_buy_base   1027 non-null   float64\n",
            " 10  takers_buy_quote  1027 non-null   float64\n",
            " 11  ignore            1027 non-null   float64\n",
            "dtypes: float64(12)\n",
            "memory usage: 104.3 KB\n"
          ],
          "name": "stdout"
        }
      ]
    },
    {
      "cell_type": "code",
      "metadata": {
        "id": "8Lc0Atm9EJV4",
        "colab_type": "code",
        "colab": {
          "base_uri": "https://localhost:8080/",
          "height": 424
        },
        "outputId": "8b07139a-0fac-4925-b0fc-fe6cc00395bd"
      },
      "source": [
        "df"
      ],
      "execution_count": 54,
      "outputs": [
        {
          "output_type": "execute_result",
          "data": {
            "text/html": [
              "<div>\n",
              "<style scoped>\n",
              "    .dataframe tbody tr th:only-of-type {\n",
              "        vertical-align: middle;\n",
              "    }\n",
              "\n",
              "    .dataframe tbody tr th {\n",
              "        vertical-align: top;\n",
              "    }\n",
              "\n",
              "    .dataframe thead th {\n",
              "        text-align: right;\n",
              "    }\n",
              "</style>\n",
              "<table border=\"1\" class=\"dataframe\">\n",
              "  <thead>\n",
              "    <tr style=\"text-align: right;\">\n",
              "      <th></th>\n",
              "      <th>open_time</th>\n",
              "      <th>open</th>\n",
              "      <th>high</th>\n",
              "      <th>low</th>\n",
              "      <th>close</th>\n",
              "      <th>volume</th>\n",
              "      <th>close_time</th>\n",
              "      <th>quote</th>\n",
              "      <th>trades</th>\n",
              "      <th>takers_buy_base</th>\n",
              "      <th>takers_buy_quote</th>\n",
              "      <th>ignore</th>\n",
              "    </tr>\n",
              "  </thead>\n",
              "  <tbody>\n",
              "    <tr>\n",
              "      <th>0</th>\n",
              "      <td>1.503014e+12</td>\n",
              "      <td>4285.08</td>\n",
              "      <td>4371.52</td>\n",
              "      <td>3938.77</td>\n",
              "      <td>4108.37</td>\n",
              "      <td>1199.888264</td>\n",
              "      <td>1.503101e+12</td>\n",
              "      <td>5.086958e+06</td>\n",
              "      <td>5233.0</td>\n",
              "      <td>972.868710</td>\n",
              "      <td>4.129123e+06</td>\n",
              "      <td>9384.141409</td>\n",
              "    </tr>\n",
              "    <tr>\n",
              "      <th>1</th>\n",
              "      <td>1.503101e+12</td>\n",
              "      <td>4108.37</td>\n",
              "      <td>4184.69</td>\n",
              "      <td>3850.00</td>\n",
              "      <td>4139.98</td>\n",
              "      <td>381.309763</td>\n",
              "      <td>1.503187e+12</td>\n",
              "      <td>1.549484e+06</td>\n",
              "      <td>2153.0</td>\n",
              "      <td>274.336042</td>\n",
              "      <td>1.118002e+06</td>\n",
              "      <td>9184.085529</td>\n",
              "    </tr>\n",
              "    <tr>\n",
              "      <th>2</th>\n",
              "      <td>1.503187e+12</td>\n",
              "      <td>4120.98</td>\n",
              "      <td>4211.08</td>\n",
              "      <td>4032.62</td>\n",
              "      <td>4086.29</td>\n",
              "      <td>467.083022</td>\n",
              "      <td>1.503274e+12</td>\n",
              "      <td>1.930364e+06</td>\n",
              "      <td>2321.0</td>\n",
              "      <td>376.795947</td>\n",
              "      <td>1.557401e+06</td>\n",
              "      <td>10125.414084</td>\n",
              "    </tr>\n",
              "    <tr>\n",
              "      <th>3</th>\n",
              "      <td>1.503274e+12</td>\n",
              "      <td>4069.13</td>\n",
              "      <td>4119.62</td>\n",
              "      <td>3911.79</td>\n",
              "      <td>4016.00</td>\n",
              "      <td>691.743060</td>\n",
              "      <td>1.503360e+12</td>\n",
              "      <td>2.797232e+06</td>\n",
              "      <td>3972.0</td>\n",
              "      <td>557.356107</td>\n",
              "      <td>2.255663e+06</td>\n",
              "      <td>11706.769970</td>\n",
              "    </tr>\n",
              "    <tr>\n",
              "      <th>4</th>\n",
              "      <td>1.503360e+12</td>\n",
              "      <td>4016.00</td>\n",
              "      <td>4104.82</td>\n",
              "      <td>3400.00</td>\n",
              "      <td>4040.00</td>\n",
              "      <td>966.684858</td>\n",
              "      <td>1.503446e+12</td>\n",
              "      <td>3.752506e+06</td>\n",
              "      <td>6494.0</td>\n",
              "      <td>423.995181</td>\n",
              "      <td>1.637188e+06</td>\n",
              "      <td>11773.279500</td>\n",
              "    </tr>\n",
              "    <tr>\n",
              "      <th>...</th>\n",
              "      <td>...</td>\n",
              "      <td>...</td>\n",
              "      <td>...</td>\n",
              "      <td>...</td>\n",
              "      <td>...</td>\n",
              "      <td>...</td>\n",
              "      <td>...</td>\n",
              "      <td>...</td>\n",
              "      <td>...</td>\n",
              "      <td>...</td>\n",
              "      <td>...</td>\n",
              "      <td>...</td>\n",
              "    </tr>\n",
              "    <tr>\n",
              "      <th>1022</th>\n",
              "      <td>1.591315e+12</td>\n",
              "      <td>9788.14</td>\n",
              "      <td>9854.75</td>\n",
              "      <td>9581.00</td>\n",
              "      <td>9621.16</td>\n",
              "      <td>47788.050050</td>\n",
              "      <td>1.591402e+12</td>\n",
              "      <td>4.652008e+08</td>\n",
              "      <td>566062.0</td>\n",
              "      <td>22329.107119</td>\n",
              "      <td>2.174445e+08</td>\n",
              "      <td>0.000000</td>\n",
              "    </tr>\n",
              "    <tr>\n",
              "      <th>1023</th>\n",
              "      <td>1.591402e+12</td>\n",
              "      <td>9621.17</td>\n",
              "      <td>9735.00</td>\n",
              "      <td>9531.05</td>\n",
              "      <td>9666.30</td>\n",
              "      <td>32752.950893</td>\n",
              "      <td>1.591488e+12</td>\n",
              "      <td>3.156049e+08</td>\n",
              "      <td>435796.0</td>\n",
              "      <td>15832.693765</td>\n",
              "      <td>1.526108e+08</td>\n",
              "      <td>0.000000</td>\n",
              "    </tr>\n",
              "    <tr>\n",
              "      <th>1024</th>\n",
              "      <td>1.591488e+12</td>\n",
              "      <td>9666.85</td>\n",
              "      <td>9802.00</td>\n",
              "      <td>9372.46</td>\n",
              "      <td>9746.99</td>\n",
              "      <td>57952.848385</td>\n",
              "      <td>1.591574e+12</td>\n",
              "      <td>5.569196e+08</td>\n",
              "      <td>637766.0</td>\n",
              "      <td>28426.595129</td>\n",
              "      <td>2.732429e+08</td>\n",
              "      <td>0.000000</td>\n",
              "    </tr>\n",
              "    <tr>\n",
              "      <th>1025</th>\n",
              "      <td>1.591574e+12</td>\n",
              "      <td>9746.99</td>\n",
              "      <td>9800.00</td>\n",
              "      <td>9633.00</td>\n",
              "      <td>9782.01</td>\n",
              "      <td>40664.664125</td>\n",
              "      <td>1.591661e+12</td>\n",
              "      <td>3.954594e+08</td>\n",
              "      <td>485139.0</td>\n",
              "      <td>19744.039124</td>\n",
              "      <td>1.920380e+08</td>\n",
              "      <td>0.000000</td>\n",
              "    </tr>\n",
              "    <tr>\n",
              "      <th>1026</th>\n",
              "      <td>1.591661e+12</td>\n",
              "      <td>9782.00</td>\n",
              "      <td>9877.00</td>\n",
              "      <td>9570.00</td>\n",
              "      <td>9701.76</td>\n",
              "      <td>35017.301414</td>\n",
              "      <td>1.591747e+12</td>\n",
              "      <td>3.398526e+08</td>\n",
              "      <td>412591.0</td>\n",
              "      <td>16349.375857</td>\n",
              "      <td>1.587949e+08</td>\n",
              "      <td>0.000000</td>\n",
              "    </tr>\n",
              "  </tbody>\n",
              "</table>\n",
              "<p>1027 rows × 12 columns</p>\n",
              "</div>"
            ],
            "text/plain": [
              "         open_time     open  ...  takers_buy_quote        ignore\n",
              "0     1.503014e+12  4285.08  ...      4.129123e+06   9384.141409\n",
              "1     1.503101e+12  4108.37  ...      1.118002e+06   9184.085529\n",
              "2     1.503187e+12  4120.98  ...      1.557401e+06  10125.414084\n",
              "3     1.503274e+12  4069.13  ...      2.255663e+06  11706.769970\n",
              "4     1.503360e+12  4016.00  ...      1.637188e+06  11773.279500\n",
              "...            ...      ...  ...               ...           ...\n",
              "1022  1.591315e+12  9788.14  ...      2.174445e+08      0.000000\n",
              "1023  1.591402e+12  9621.17  ...      1.526108e+08      0.000000\n",
              "1024  1.591488e+12  9666.85  ...      2.732429e+08      0.000000\n",
              "1025  1.591574e+12  9746.99  ...      1.920380e+08      0.000000\n",
              "1026  1.591661e+12  9782.00  ...      1.587949e+08      0.000000\n",
              "\n",
              "[1027 rows x 12 columns]"
            ]
          },
          "metadata": {
            "tags": []
          },
          "execution_count": 54
        }
      ]
    },
    {
      "cell_type": "code",
      "metadata": {
        "id": "OgcDqAiuEJV8",
        "colab_type": "code",
        "colab": {}
      },
      "source": [
        "df['close_time'] = pd.to_datetime(df['close_time'], unit='ms')\n",
        "df['close_time'] = df['close_time'].dt.tz_localize('utc').dt.tz_convert('Europe/Madrid')\n",
        "df = df.set_index('close_time')"
      ],
      "execution_count": 0,
      "outputs": []
    },
    {
      "cell_type": "code",
      "metadata": {
        "id": "CEsMuGihEJWA",
        "colab_type": "code",
        "colab": {}
      },
      "source": [
        "df.drop('ignore', axis=1, inplace=True)"
      ],
      "execution_count": 0,
      "outputs": []
    },
    {
      "cell_type": "code",
      "metadata": {
        "id": "aWGgcogoTDoa",
        "colab_type": "code",
        "colab": {
          "base_uri": "https://localhost:8080/",
          "height": 455
        },
        "outputId": "8d8cc938-e7a2-4c31-a460-62a51deca256"
      },
      "source": [
        "df"
      ],
      "execution_count": 57,
      "outputs": [
        {
          "output_type": "execute_result",
          "data": {
            "text/html": [
              "<div>\n",
              "<style scoped>\n",
              "    .dataframe tbody tr th:only-of-type {\n",
              "        vertical-align: middle;\n",
              "    }\n",
              "\n",
              "    .dataframe tbody tr th {\n",
              "        vertical-align: top;\n",
              "    }\n",
              "\n",
              "    .dataframe thead th {\n",
              "        text-align: right;\n",
              "    }\n",
              "</style>\n",
              "<table border=\"1\" class=\"dataframe\">\n",
              "  <thead>\n",
              "    <tr style=\"text-align: right;\">\n",
              "      <th></th>\n",
              "      <th>open_time</th>\n",
              "      <th>open</th>\n",
              "      <th>high</th>\n",
              "      <th>low</th>\n",
              "      <th>close</th>\n",
              "      <th>volume</th>\n",
              "      <th>quote</th>\n",
              "      <th>trades</th>\n",
              "      <th>takers_buy_base</th>\n",
              "      <th>takers_buy_quote</th>\n",
              "    </tr>\n",
              "    <tr>\n",
              "      <th>close_time</th>\n",
              "      <th></th>\n",
              "      <th></th>\n",
              "      <th></th>\n",
              "      <th></th>\n",
              "      <th></th>\n",
              "      <th></th>\n",
              "      <th></th>\n",
              "      <th></th>\n",
              "      <th></th>\n",
              "      <th></th>\n",
              "    </tr>\n",
              "  </thead>\n",
              "  <tbody>\n",
              "    <tr>\n",
              "      <th>2017-08-19 01:59:59.999000+02:00</th>\n",
              "      <td>1.503014e+12</td>\n",
              "      <td>4285.08</td>\n",
              "      <td>4371.52</td>\n",
              "      <td>3938.77</td>\n",
              "      <td>4108.37</td>\n",
              "      <td>1199.888264</td>\n",
              "      <td>5.086958e+06</td>\n",
              "      <td>5233.0</td>\n",
              "      <td>972.868710</td>\n",
              "      <td>4.129123e+06</td>\n",
              "    </tr>\n",
              "    <tr>\n",
              "      <th>2017-08-20 01:59:59.999000+02:00</th>\n",
              "      <td>1.503101e+12</td>\n",
              "      <td>4108.37</td>\n",
              "      <td>4184.69</td>\n",
              "      <td>3850.00</td>\n",
              "      <td>4139.98</td>\n",
              "      <td>381.309763</td>\n",
              "      <td>1.549484e+06</td>\n",
              "      <td>2153.0</td>\n",
              "      <td>274.336042</td>\n",
              "      <td>1.118002e+06</td>\n",
              "    </tr>\n",
              "    <tr>\n",
              "      <th>2017-08-21 01:59:59.999000+02:00</th>\n",
              "      <td>1.503187e+12</td>\n",
              "      <td>4120.98</td>\n",
              "      <td>4211.08</td>\n",
              "      <td>4032.62</td>\n",
              "      <td>4086.29</td>\n",
              "      <td>467.083022</td>\n",
              "      <td>1.930364e+06</td>\n",
              "      <td>2321.0</td>\n",
              "      <td>376.795947</td>\n",
              "      <td>1.557401e+06</td>\n",
              "    </tr>\n",
              "    <tr>\n",
              "      <th>2017-08-22 01:59:59.999000+02:00</th>\n",
              "      <td>1.503274e+12</td>\n",
              "      <td>4069.13</td>\n",
              "      <td>4119.62</td>\n",
              "      <td>3911.79</td>\n",
              "      <td>4016.00</td>\n",
              "      <td>691.743060</td>\n",
              "      <td>2.797232e+06</td>\n",
              "      <td>3972.0</td>\n",
              "      <td>557.356107</td>\n",
              "      <td>2.255663e+06</td>\n",
              "    </tr>\n",
              "    <tr>\n",
              "      <th>2017-08-23 01:59:59.999000+02:00</th>\n",
              "      <td>1.503360e+12</td>\n",
              "      <td>4016.00</td>\n",
              "      <td>4104.82</td>\n",
              "      <td>3400.00</td>\n",
              "      <td>4040.00</td>\n",
              "      <td>966.684858</td>\n",
              "      <td>3.752506e+06</td>\n",
              "      <td>6494.0</td>\n",
              "      <td>423.995181</td>\n",
              "      <td>1.637188e+06</td>\n",
              "    </tr>\n",
              "    <tr>\n",
              "      <th>...</th>\n",
              "      <td>...</td>\n",
              "      <td>...</td>\n",
              "      <td>...</td>\n",
              "      <td>...</td>\n",
              "      <td>...</td>\n",
              "      <td>...</td>\n",
              "      <td>...</td>\n",
              "      <td>...</td>\n",
              "      <td>...</td>\n",
              "      <td>...</td>\n",
              "    </tr>\n",
              "    <tr>\n",
              "      <th>2020-06-06 01:59:59.999000+02:00</th>\n",
              "      <td>1.591315e+12</td>\n",
              "      <td>9788.14</td>\n",
              "      <td>9854.75</td>\n",
              "      <td>9581.00</td>\n",
              "      <td>9621.16</td>\n",
              "      <td>47788.050050</td>\n",
              "      <td>4.652008e+08</td>\n",
              "      <td>566062.0</td>\n",
              "      <td>22329.107119</td>\n",
              "      <td>2.174445e+08</td>\n",
              "    </tr>\n",
              "    <tr>\n",
              "      <th>2020-06-07 01:59:59.999000+02:00</th>\n",
              "      <td>1.591402e+12</td>\n",
              "      <td>9621.17</td>\n",
              "      <td>9735.00</td>\n",
              "      <td>9531.05</td>\n",
              "      <td>9666.30</td>\n",
              "      <td>32752.950893</td>\n",
              "      <td>3.156049e+08</td>\n",
              "      <td>435796.0</td>\n",
              "      <td>15832.693765</td>\n",
              "      <td>1.526108e+08</td>\n",
              "    </tr>\n",
              "    <tr>\n",
              "      <th>2020-06-08 01:59:59.999000+02:00</th>\n",
              "      <td>1.591488e+12</td>\n",
              "      <td>9666.85</td>\n",
              "      <td>9802.00</td>\n",
              "      <td>9372.46</td>\n",
              "      <td>9746.99</td>\n",
              "      <td>57952.848385</td>\n",
              "      <td>5.569196e+08</td>\n",
              "      <td>637766.0</td>\n",
              "      <td>28426.595129</td>\n",
              "      <td>2.732429e+08</td>\n",
              "    </tr>\n",
              "    <tr>\n",
              "      <th>2020-06-09 01:59:59.999000+02:00</th>\n",
              "      <td>1.591574e+12</td>\n",
              "      <td>9746.99</td>\n",
              "      <td>9800.00</td>\n",
              "      <td>9633.00</td>\n",
              "      <td>9782.01</td>\n",
              "      <td>40664.664125</td>\n",
              "      <td>3.954594e+08</td>\n",
              "      <td>485139.0</td>\n",
              "      <td>19744.039124</td>\n",
              "      <td>1.920380e+08</td>\n",
              "    </tr>\n",
              "    <tr>\n",
              "      <th>2020-06-10 01:59:59.999000+02:00</th>\n",
              "      <td>1.591661e+12</td>\n",
              "      <td>9782.00</td>\n",
              "      <td>9877.00</td>\n",
              "      <td>9570.00</td>\n",
              "      <td>9701.76</td>\n",
              "      <td>35017.301414</td>\n",
              "      <td>3.398526e+08</td>\n",
              "      <td>412591.0</td>\n",
              "      <td>16349.375857</td>\n",
              "      <td>1.587949e+08</td>\n",
              "    </tr>\n",
              "  </tbody>\n",
              "</table>\n",
              "<p>1027 rows × 10 columns</p>\n",
              "</div>"
            ],
            "text/plain": [
              "                                     open_time  ...  takers_buy_quote\n",
              "close_time                                      ...                  \n",
              "2017-08-19 01:59:59.999000+02:00  1.503014e+12  ...      4.129123e+06\n",
              "2017-08-20 01:59:59.999000+02:00  1.503101e+12  ...      1.118002e+06\n",
              "2017-08-21 01:59:59.999000+02:00  1.503187e+12  ...      1.557401e+06\n",
              "2017-08-22 01:59:59.999000+02:00  1.503274e+12  ...      2.255663e+06\n",
              "2017-08-23 01:59:59.999000+02:00  1.503360e+12  ...      1.637188e+06\n",
              "...                                        ...  ...               ...\n",
              "2020-06-06 01:59:59.999000+02:00  1.591315e+12  ...      2.174445e+08\n",
              "2020-06-07 01:59:59.999000+02:00  1.591402e+12  ...      1.526108e+08\n",
              "2020-06-08 01:59:59.999000+02:00  1.591488e+12  ...      2.732429e+08\n",
              "2020-06-09 01:59:59.999000+02:00  1.591574e+12  ...      1.920380e+08\n",
              "2020-06-10 01:59:59.999000+02:00  1.591661e+12  ...      1.587949e+08\n",
              "\n",
              "[1027 rows x 10 columns]"
            ]
          },
          "metadata": {
            "tags": []
          },
          "execution_count": 57
        }
      ]
    },
    {
      "cell_type": "code",
      "metadata": {
        "id": "G73s9FKgEJWF",
        "colab_type": "code",
        "colab": {}
      },
      "source": [
        "df.to_csv(f'{symbol}_{tick_interval}.csv',index=False,header=True, quoting=csv.QUOTE_ALL)"
      ],
      "execution_count": 0,
      "outputs": []
    },
    {
      "cell_type": "code",
      "metadata": {
        "id": "zUV58mFvEUy5",
        "colab_type": "code",
        "colab": {
          "base_uri": "https://localhost:8080/",
          "height": 35
        },
        "outputId": "8f219fd8-b5d6-46b0-8620-569a2bfff621"
      },
      "source": [
        "!ls"
      ],
      "execution_count": 59,
      "outputs": [
        {
          "output_type": "stream",
          "text": [
            "BTCUSDT_1d.csv\tsample_data\n"
          ],
          "name": "stdout"
        }
      ]
    },
    {
      "cell_type": "code",
      "metadata": {
        "id": "8Np5KiEtEV3_",
        "colab_type": "code",
        "colab": {
          "base_uri": "https://localhost:8080/",
          "height": 35
        },
        "outputId": "7e128305-3c30-4539-d53e-32486b66c129"
      },
      "source": [
        "!pwd"
      ],
      "execution_count": 60,
      "outputs": [
        {
          "output_type": "stream",
          "text": [
            "/content\n"
          ],
          "name": "stdout"
        }
      ]
    },
    {
      "cell_type": "code",
      "metadata": {
        "id": "L-FTr4D6EXa0",
        "colab_type": "code",
        "colab": {}
      },
      "source": [
        "from google.colab import files\n",
        "files.download('BTCUSDT_1d.csv')"
      ],
      "execution_count": 0,
      "outputs": []
    }
  ]
}